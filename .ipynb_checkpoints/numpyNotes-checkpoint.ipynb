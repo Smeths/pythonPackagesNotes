{
 "cells": [
  {
   "cell_type": "markdown",
   "metadata": {},
   "source": [
    "# numpy Study\n",
    "\n",
    "A collection of useful online resources and scripts for plotting with numpy.\n",
    "\n",
    "Resources\n",
    "1. [Quickstart Tutorial](https://numpy.org/doc/stable/user/quickstart.html)\n",
    "2. [Other Learn Resources](https://numpy.org/learn/)\n",
    "3. Opening and Closing File\n",
    "\n",
    "# Scripts\n",
    "\n",
    "### Code from Quick Start Course\n",
    "#### Properties of an array"
   ]
  },
  {
   "cell_type": "code",
   "execution_count": 2,
   "metadata": {},
   "outputs": [
    {
     "name": "stdout",
     "output_type": "stream",
     "text": [
      "[[ 0  1  2  3  4  5  6]\n",
      " [ 7  8  9 10 11 12 13]\n",
      " [14 15 16 17 18 19 20]]\n",
      "(3, 7)\n",
      "2\n",
      "int64\n",
      "8\n",
      "21\n"
     ]
    },
    {
     "data": {
      "text/plain": [
       "numpy.ndarray"
      ]
     },
     "execution_count": 2,
     "metadata": {},
     "output_type": "execute_result"
    }
   ],
   "source": [
    "import numpy as np\n",
    "a = np.arange(21).reshape(3, 7)\n",
    "# properties of the array\n",
    "print(a)\n",
    "print(a.shape)\n",
    "print(a.ndim)\n",
    "print(a.dtype.name)\n",
    "print(a.itemsize)\n",
    "print(a.size)\n",
    "type(a)"
   ]
  },
  {
   "cell_type": "markdown",
   "metadata": {},
   "source": [
    "#### Array Creation"
   ]
  },
  {
   "cell_type": "code",
   "execution_count": 8,
   "metadata": {},
   "outputs": [
    {
     "name": "stdout",
     "output_type": "stream",
     "text": [
      "float64\n",
      "[[1.+0.j 2.+0.j]\n",
      " [3.+0.j 4.+0.j]]\n"
     ]
    }
   ],
   "source": [
    "# Array of floats\n",
    "b = np.array([1.2,3.5,5.1])\n",
    "print(b.dtype)\n",
    "# Array of complex\n",
    "c = np.array([[1,2],[3,4]], dtype=complex)\n",
    "print(c)"
   ]
  },
  {
   "cell_type": "code",
   "execution_count": 11,
   "metadata": {},
   "outputs": [
    {
     "name": "stdout",
     "output_type": "stream",
     "text": [
      "[[0. 0. 0. 0.]\n",
      " [0. 0. 0. 0.]\n",
      " [0. 0. 0. 0.]]\n"
     ]
    }
   ],
   "source": [
    "num0 = np.zeros((3,4))\n",
    "print(num0)"
   ]
  },
  {
   "cell_type": "code",
   "execution_count": 12,
   "metadata": {},
   "outputs": [
    {
     "name": "stdout",
     "output_type": "stream",
     "text": [
      "[[[1 1 1 1]\n",
      "  [1 1 1 1]\n",
      "  [1 1 1 1]]\n",
      "\n",
      " [[1 1 1 1]\n",
      "  [1 1 1 1]\n",
      "  [1 1 1 1]]]\n"
     ]
    }
   ],
   "source": [
    "num1 = np.ones( (2,3,4), dtype=np.int16 )\n",
    "print(num1)"
   ]
  },
  {
   "cell_type": "code",
   "execution_count": 14,
   "metadata": {},
   "outputs": [],
   "source": [
    "from numpy import pi\n",
    "x = np.linspace(0, 2*pi, 100)\n",
    "f = np.sin(x)"
   ]
  },
  {
   "cell_type": "markdown",
   "metadata": {},
   "source": [
    "#### Basic Operations"
   ]
  },
  {
   "cell_type": "code",
   "execution_count": 4,
   "metadata": {},
   "outputs": [
    {
     "name": "stdout",
     "output_type": "stream",
     "text": [
      "[20 29 38 47]\n"
     ]
    }
   ],
   "source": [
    "a = np.array( [20,30,40,50] )\n",
    "b = np.arange( 4 )\n",
    "c = a-b\n",
    "print(c)"
   ]
  },
  {
   "cell_type": "code",
   "execution_count": 5,
   "metadata": {},
   "outputs": [
    {
     "name": "stdout",
     "output_type": "stream",
     "text": [
      "[0 1 4 9]\n"
     ]
    }
   ],
   "source": [
    "print(b**2)"
   ]
  },
  {
   "cell_type": "markdown",
   "metadata": {},
   "source": [
    "#### Subsetting with Logicals"
   ]
  },
  {
   "cell_type": "code",
   "execution_count": 7,
   "metadata": {},
   "outputs": [
    {
     "name": "stdout",
     "output_type": "stream",
     "text": [
      "[ True  True False False]\n",
      "[[ True  True  True  True  True  True  True]\n",
      " [ True  True  True False False False False]\n",
      " [False False False False False False False]]\n",
      "[0 1 2 3 4 5 6 7 8 9]\n"
     ]
    }
   ],
   "source": [
    "alog = a < 35\n",
    "print(alog)\n",
    "a = np.arange(21).reshape(3, 7)\n",
    "alog = a < 10\n",
    "print(alog)\n",
    "print(a[alog])\n"
   ]
  },
  {
   "cell_type": "markdown",
   "metadata": {},
   "source": [
    "#### Array Multiplication - Including Linear Algebra Multiplication"
   ]
  },
  {
   "cell_type": "code",
   "execution_count": 8,
   "metadata": {},
   "outputs": [
    {
     "name": "stdout",
     "output_type": "stream",
     "text": [
      "[[1 1]\n",
      " [0 1]]\n",
      "[[2 0]\n",
      " [3 4]]\n",
      "[[2 0]\n",
      " [0 4]]\n",
      "[[5 4]\n",
      " [3 4]]\n"
     ]
    }
   ],
   "source": [
    "A = np.array( [[1,1],[0,1]] )\n",
    "B = np.array( [[2,0],[3,4]] )\n",
    "print(A)\n",
    "print(B)\n",
    "# element wise multiplication\n",
    "print(A*B)\n",
    "# matrix multiplication\n",
    "print(A@B)"
   ]
  },
  {
   "cell_type": "code",
   "execution_count": 9,
   "metadata": {},
   "outputs": [
    {
     "name": "stdout",
     "output_type": "stream",
     "text": [
      "[[3 3]\n",
      " [0 3]]\n"
     ]
    }
   ],
   "source": [
    "A *= 3\n",
    "print(A)"
   ]
  },
  {
   "cell_type": "code",
   "execution_count": 10,
   "metadata": {},
   "outputs": [
    {
     "name": "stdout",
     "output_type": "stream",
     "text": [
      "[[5 3]\n",
      " [3 7]]\n"
     ]
    }
   ],
   "source": [
    "B += A\n",
    "print(B)"
   ]
  },
  {
   "cell_type": "markdown",
   "metadata": {},
   "source": [
    "#### Indexing, Slicing and Iterating"
   ]
  },
  {
   "cell_type": "code",
   "execution_count": 16,
   "metadata": {},
   "outputs": [
    {
     "name": "stdout",
     "output_type": "stream",
     "text": [
      "[  0   1   8  27  64 125 216 343 512 729]\n"
     ]
    }
   ],
   "source": [
    "a = np.arange(10)**3\n",
    "print(a)"
   ]
  },
  {
   "cell_type": "code",
   "execution_count": 17,
   "metadata": {},
   "outputs": [
    {
     "name": "stdout",
     "output_type": "stream",
     "text": [
      "8\n",
      "[ 8 27 64]\n"
     ]
    }
   ],
   "source": [
    "print(a[2])\n",
    "print(a[2:5])"
   ]
  },
  {
   "cell_type": "code",
   "execution_count": 18,
   "metadata": {},
   "outputs": [
    {
     "name": "stdout",
     "output_type": "stream",
     "text": [
      "[1000    1 1000   27 1000  125 1000  343  512  729]\n",
      "[ 729  512  343 1000  125 1000   27 1000    1 1000]\n"
     ]
    }
   ],
   "source": [
    "# set every second element to 1000.0\n",
    "a[:7:2] = 1000.0\n",
    "print(a)\n",
    "# reverse direction of a\n",
    "print(a[: :-1])"
   ]
  },
  {
   "cell_type": "code",
   "execution_count": 19,
   "metadata": {},
   "outputs": [
    {
     "name": "stdout",
     "output_type": "stream",
     "text": [
      "9.999999999999998\n",
      "1.0\n",
      "9.999999999999998\n",
      "3.0\n",
      "9.999999999999998\n",
      "4.999999999999999\n",
      "9.999999999999998\n",
      "6.999999999999999\n",
      "7.999999999999999\n",
      "8.999999999999998\n"
     ]
    }
   ],
   "source": [
    "for i in a:\n",
    "    print(i**(1/3.))"
   ]
  },
  {
   "cell_type": "code",
   "execution_count": 20,
   "metadata": {},
   "outputs": [
    {
     "name": "stdout",
     "output_type": "stream",
     "text": [
      "[[ 0  1  2  3]\n",
      " [10 11 12 13]\n",
      " [20 21 22 23]\n",
      " [30 31 32 33]\n",
      " [40 41 42 43]]\n"
     ]
    }
   ],
   "source": [
    "def f(x,y):\n",
    "    return 10*x+y\n",
    "\n",
    "b = np.fromfunction(f,(5,4),dtype=int)\n",
    "print(b)"
   ]
  },
  {
   "cell_type": "code",
   "execution_count": 21,
   "metadata": {},
   "outputs": [
    {
     "name": "stdout",
     "output_type": "stream",
     "text": [
      "23\n"
     ]
    }
   ],
   "source": [
    "print(b[2,3])"
   ]
  },
  {
   "cell_type": "code",
   "execution_count": 22,
   "metadata": {},
   "outputs": [
    {
     "name": "stdout",
     "output_type": "stream",
     "text": [
      "[ 1 11 21 31 41]\n"
     ]
    }
   ],
   "source": [
    "print(b[0:5,1])"
   ]
  },
  {
   "cell_type": "code",
   "execution_count": 23,
   "metadata": {},
   "outputs": [
    {
     "name": "stdout",
     "output_type": "stream",
     "text": [
      "[ 1 11 21 31 41]\n"
     ]
    }
   ],
   "source": [
    "print(b[:,1])"
   ]
  },
  {
   "cell_type": "code",
   "execution_count": 24,
   "metadata": {},
   "outputs": [
    {
     "name": "stdout",
     "output_type": "stream",
     "text": [
      "[[10 11 12 13]\n",
      " [20 21 22 23]]\n"
     ]
    }
   ],
   "source": [
    "print(b[1:3,:])"
   ]
  },
  {
   "cell_type": "code",
   "execution_count": 26,
   "metadata": {},
   "outputs": [
    {
     "name": "stdout",
     "output_type": "stream",
     "text": [
      "[30 31 32 33]\n"
     ]
    }
   ],
   "source": [
    "print(b[-2])"
   ]
  },
  {
   "cell_type": "code",
   "execution_count": 27,
   "metadata": {},
   "outputs": [
    {
     "name": "stdout",
     "output_type": "stream",
     "text": [
      "[0 1 2 3]\n",
      "[10 11 12 13]\n",
      "[20 21 22 23]\n",
      "[30 31 32 33]\n",
      "[40 41 42 43]\n"
     ]
    }
   ],
   "source": [
    "# Iteration over rows\n",
    "for row in b:\n",
    "    print(row)"
   ]
  },
  {
   "cell_type": "code",
   "execution_count": 28,
   "metadata": {},
   "outputs": [
    {
     "name": "stdout",
     "output_type": "stream",
     "text": [
      "0\n",
      "1\n",
      "2\n",
      "3\n",
      "10\n",
      "11\n",
      "12\n",
      "13\n",
      "20\n",
      "21\n",
      "22\n",
      "23\n",
      "30\n",
      "31\n",
      "32\n",
      "33\n",
      "40\n",
      "41\n",
      "42\n",
      "43\n"
     ]
    }
   ],
   "source": [
    "# Iterate over elements\n",
    "for elem in b.flat:\n",
    "    print(elem)"
   ]
  },
  {
   "cell_type": "markdown",
   "metadata": {},
   "source": [
    "#### Shape Manipulation"
   ]
  },
  {
   "cell_type": "code",
   "execution_count": 44,
   "metadata": {},
   "outputs": [
    {
     "name": "stdout",
     "output_type": "stream",
     "text": [
      "(3, 4)\n"
     ]
    }
   ],
   "source": [
    "a = np.arange(12).reshape(3, 4)\n",
    "print(a.shape)"
   ]
  },
  {
   "cell_type": "code",
   "execution_count": 45,
   "metadata": {},
   "outputs": [
    {
     "name": "stdout",
     "output_type": "stream",
     "text": [
      "[ 0  1  2  3  4  5  6  7  8  9 10 11]\n"
     ]
    }
   ],
   "source": [
    "print(a.ravel())"
   ]
  },
  {
   "cell_type": "code",
   "execution_count": 46,
   "metadata": {},
   "outputs": [
    {
     "name": "stdout",
     "output_type": "stream",
     "text": [
      "[[ 0  1  2  3]\n",
      " [ 4  5  6  7]\n",
      " [ 8  9 10 11]]\n"
     ]
    }
   ],
   "source": [
    "print(a)"
   ]
  },
  {
   "cell_type": "code",
   "execution_count": 48,
   "metadata": {},
   "outputs": [
    {
     "name": "stdout",
     "output_type": "stream",
     "text": [
      "[[ 0  1]\n",
      " [ 2  3]\n",
      " [ 4  5]\n",
      " [ 6  7]\n",
      " [ 8  9]\n",
      " [10 11]]\n"
     ]
    }
   ],
   "source": [
    "print(a.reshape(6,2))"
   ]
  },
  {
   "cell_type": "code",
   "execution_count": 49,
   "metadata": {},
   "outputs": [
    {
     "name": "stdout",
     "output_type": "stream",
     "text": [
      "[[ 0  4  8]\n",
      " [ 1  5  9]\n",
      " [ 2  6 10]\n",
      " [ 3  7 11]]\n",
      "(4, 3)\n"
     ]
    }
   ],
   "source": [
    "print(a.T)\n",
    "print(a.T.shape)"
   ]
  },
  {
   "cell_type": "code",
   "execution_count": 52,
   "metadata": {},
   "outputs": [
    {
     "name": "stdout",
     "output_type": "stream",
     "text": [
      "[[ 0  1]\n",
      " [ 2  3]\n",
      " [ 4  5]\n",
      " [ 6  7]\n",
      " [ 8  9]\n",
      " [10 11]]\n"
     ]
    }
   ],
   "source": [
    "a.resize(6,2)\n",
    "print(a)\n",
    " "
   ]
  },
  {
   "cell_type": "code",
   "execution_count": 51,
   "metadata": {},
   "outputs": [
    {
     "name": "stdout",
     "output_type": "stream",
     "text": [
      "[[ 0  1  2  3  4  5]\n",
      " [ 6  7  8  9 10 11]]\n"
     ]
    }
   ],
   "source": [
    "# -1 means automatically calc other dimension\n",
    "print(a.reshape(2,-1))"
   ]
  },
  {
   "cell_type": "markdown",
   "metadata": {},
   "source": [
    "#### Stacking Together Different Arrays"
   ]
  },
  {
   "cell_type": "code",
   "execution_count": 29,
   "metadata": {},
   "outputs": [
    {
     "name": "stdout",
     "output_type": "stream",
     "text": [
      "[[5. 9.]\n",
      " [1. 9.]\n",
      " [3. 4.]\n",
      " [8. 4.]]\n",
      "[[5. 9. 3. 4.]\n",
      " [1. 9. 8. 4.]]\n"
     ]
    }
   ],
   "source": [
    "# stacking horizontally and vertically\n",
    "rg = np.random.default_rng(1)\n",
    "a = np.floor(10*rg.random((2,2)))\n",
    "b = np.floor(10*rg.random((2,2)))\n",
    "print(np.vstack((a,b)))\n",
    "print(np.hstack((a,b)))"
   ]
  },
  {
   "cell_type": "code",
   "execution_count": 31,
   "metadata": {},
   "outputs": [
    {
     "name": "stdout",
     "output_type": "stream",
     "text": [
      "[[6. 7. 6. 9. 0. 5. 4. 0. 6. 8. 5. 2.]\n",
      " [8. 5. 5. 7. 1. 8. 6. 7. 1. 8. 1. 0.]]\n",
      "[array([[6., 7., 6., 9.],\n",
      "       [8., 5., 5., 7.]]), array([[0., 5., 4., 0.],\n",
      "       [1., 8., 6., 7.]]), array([[6., 8., 5., 2.],\n",
      "       [1., 8., 1., 0.]])]\n"
     ]
    }
   ],
   "source": [
    "a = np.floor(10*rg.random((2,12)))\n",
    "print(a)\n",
    "print(np.hsplit(a,3))"
   ]
  },
  {
   "cell_type": "markdown",
   "metadata": {},
   "source": [
    "#### Copies and Views"
   ]
  },
  {
   "cell_type": "code",
   "execution_count": 32,
   "metadata": {},
   "outputs": [
    {
     "name": "stdout",
     "output_type": "stream",
     "text": [
      "[[ 0  1  2  3]\n",
      " [ 4  5  6  7]\n",
      " [ 8  9 10 11]]\n",
      "[1 5 9]\n"
     ]
    }
   ],
   "source": [
    "a = np.array([[ 0,  1,  2,  3],[ 4,  5,  6,  7],[ 8,  9, 10, 11]])\n",
    "b = a[:,1]\n",
    "print(a)\n",
    "print(b)"
   ]
  },
  {
   "cell_type": "code",
   "execution_count": 35,
   "metadata": {},
   "outputs": [],
   "source": [
    "b = np.arange(3).reshape(1, 3)"
   ]
  },
  {
   "cell_type": "code",
   "execution_count": 36,
   "metadata": {},
   "outputs": [
    {
     "name": "stdout",
     "output_type": "stream",
     "text": [
      "[[ 0  1  2  3]\n",
      " [ 4  5  6  7]\n",
      " [ 8  9 10 11]]\n",
      "[[0 1 2]]\n"
     ]
    }
   ],
   "source": [
    "print(a)\n",
    "print(b)"
   ]
  },
  {
   "cell_type": "code",
   "execution_count": 37,
   "metadata": {},
   "outputs": [
    {
     "name": "stdout",
     "output_type": "stream",
     "text": [
      "[[ 0  1  2  3  4  5]\n",
      " [ 6  7  8  9 10 11]]\n"
     ]
    }
   ],
   "source": [
    "b = a\n",
    "b.resize(2,6)\n",
    "print(a)\n"
   ]
  },
  {
   "cell_type": "code",
   "execution_count": 38,
   "metadata": {},
   "outputs": [
    {
     "name": "stdout",
     "output_type": "stream",
     "text": [
      "[[ 0  1  2  3  4  5]\n",
      " [ 6  7  8  9 10 11]]\n",
      "[[ 0  1  2  0  4  5]\n",
      " [ 6  7  8  0 10 11]]\n"
     ]
    }
   ],
   "source": [
    "# copy method makes a copy that won't change\n",
    "d = a.copy()\n",
    "print(d)\n",
    "d[:,3] = np.array([0,0])\n",
    "print(d)"
   ]
  },
  {
   "cell_type": "markdown",
   "metadata": {},
   "source": [
    "#### Broadcasting"
   ]
  },
  {
   "cell_type": "code",
   "execution_count": 39,
   "metadata": {},
   "outputs": [
    {
     "name": "stdout",
     "output_type": "stream",
     "text": [
      "[2. 4. 6.]\n",
      "[3.  8.  7.5]\n"
     ]
    }
   ],
   "source": [
    "# behaviour when multiplying arrays of the same size or array x scalar is predictable\n",
    "a = np.array([1.0, 2.0, 3.0])\n",
    "b = 2.0\n",
    "print(a * b)\n",
    "c = np.array([3.0,4.0,2.5])\n",
    "print(a*c)"
   ]
  },
  {
   "cell_type": "code",
   "execution_count": 40,
   "metadata": {},
   "outputs": [
    {
     "name": "stdout",
     "output_type": "stream",
     "text": [
      "[[2. 2. 4.]\n",
      " [2. 1. 3.]]\n",
      "[[ 2.  4. 12.]\n",
      " [ 2.  2.  9.]]\n",
      "(2, 3)\n",
      "(3,)\n"
     ]
    }
   ],
   "source": [
    "d = np.array([[2.0,2.0,4.0],[2.0,1.0,3.0]])\n",
    "print(d)\n",
    "print(a*d)\n",
    "print(np.shape(d))\n",
    "print(np.shape(a))"
   ]
  },
  {
   "cell_type": "code",
   "execution_count": 43,
   "metadata": {},
   "outputs": [
    {
     "name": "stdout",
     "output_type": "stream",
     "text": [
      "(1, 3)\n",
      "(2, 1)\n"
     ]
    },
    {
     "data": {
      "text/plain": [
       "array([[5., 6., 7.],\n",
       "       [6., 7., 8.]])"
      ]
     },
     "execution_count": 43,
     "metadata": {},
     "output_type": "execute_result"
    }
   ],
   "source": [
    "# more interesting broadcasting idea\n",
    "a = np.array([[1.0,2.0,3.0]])\n",
    "print(np.shape(a))\n",
    "b = np.array([[4.0],[5.0]])\n",
    "print(np.shape(b))\n",
    "a+b"
   ]
  },
  {
   "cell_type": "markdown",
   "metadata": {},
   "source": [
    "Dimensions must either be equal or one of them must be one"
   ]
  },
  {
   "cell_type": "markdown",
   "metadata": {},
   "source": [
    "#### Advanced Indexing and Index Tricks"
   ]
  },
  {
   "cell_type": "code",
   "execution_count": 4,
   "metadata": {},
   "outputs": [
    {
     "name": "stdout",
     "output_type": "stream",
     "text": [
      "[  0   1   4   9  16  25  36  49  64  81 100 121]\n",
      "[ 1  1  9 64 25]\n",
      "[[ 9 16]\n",
      " [81 49]]\n"
     ]
    }
   ],
   "source": [
    "a = np.arange(12)**2\n",
    "print(a)\n",
    "i = np.array([1, 1, 3, 8, 5])\n",
    "j = np.array([[3, 4], [9, 7]])\n",
    "print(a[i])\n",
    "print(a[j])"
   ]
  },
  {
   "cell_type": "code",
   "execution_count": 44,
   "metadata": {},
   "outputs": [
    {
     "name": "stdout",
     "output_type": "stream",
     "text": [
      "(5, 3)\n",
      "[[  0   0   0]\n",
      " [255   0   0]\n",
      " [  0 255   0]\n",
      " [  0   0   0]]\n",
      "[[  0   0   0]\n",
      " [  0   0 255]\n",
      " [255 255 255]\n",
      " [  0   0   0]]\n",
      "(2, 4, 3)\n"
     ]
    }
   ],
   "source": [
    "palette = np.array([[0, 0, 0],         # black\n",
    "                    [255, 0, 0],       # red\n",
    "                    [0, 255, 0],       # green\n",
    "                    [0, 0, 255],       # blue\n",
    "                    [255, 255, 255]])\n",
    "image = np.array([[0, 1, 2, 0],        # refers to first dimension from above e.g. rows from above,                                    \n",
    "                  [0, 3, 4, 0]])       # 0 - black, 1 - red, 2 green 0 black first row here. The 0 - black,\n",
    "                                       # 3 - green, 4 - blue, 0 black\n",
    "\n",
    "print(palette.shape)\n",
    "newimage = palette[image]\n",
    "print(newimage[0])\n",
    "print(newimage[1])\n",
    "print(newimage.shape)"
   ]
  },
  {
   "cell_type": "markdown",
   "metadata": {},
   "source": [
    "#### creating filter - transport modelling"
   ]
  },
  {
   "cell_type": "code",
   "execution_count": 5,
   "metadata": {},
   "outputs": [
    {
     "name": "stdout",
     "output_type": "stream",
     "text": [
      "[[5. 9. 1.]\n",
      " [9. 3. 4.]\n",
      " [8. 4. 5.]]\n"
     ]
    }
   ],
   "source": [
    "rg = np.random.default_rng(1)\n",
    "costs = np.floor(10*rg.random((3,3)))\n",
    "print(a)"
   ]
  },
  {
   "cell_type": "code",
   "execution_count": 10,
   "metadata": {},
   "outputs": [
    {
     "name": "stdout",
     "output_type": "stream",
     "text": [
      "[[1 0 0]\n",
      " [1 0 1]\n",
      " [1 1 0]]\n"
     ]
    }
   ],
   "source": [
    "odpairs = np.array([[1,0,0],[1,0,1],[1,1,0]])\n",
    "print(odpairs)"
   ]
  },
  {
   "cell_type": "code",
   "execution_count": 11,
   "metadata": {},
   "outputs": [
    {
     "name": "stdout",
     "output_type": "stream",
     "text": [
      "[[1 0 0]\n",
      " [1 0 1]\n",
      " [1 1 0]]\n"
     ]
    }
   ],
   "source": [
    "print(odpairs*fil)"
   ]
  },
  {
   "cell_type": "code",
   "execution_count": 15,
   "metadata": {},
   "outputs": [
    {
     "name": "stdout",
     "output_type": "stream",
     "text": [
      "[[0.95 1.   1.  ]\n",
      " [0.95 1.   0.95]\n",
      " [0.95 0.95 1.  ]]\n"
     ]
    }
   ],
   "source": [
    "fil = np.ones((3,3)) - 0.05*odpairs\n",
    "print(fil)"
   ]
  },
  {
   "cell_type": "markdown",
   "metadata": {},
   "source": [
    "### Opening files"
   ]
  },
  {
   "cell_type": "code",
   "execution_count": 52,
   "metadata": {},
   "outputs": [],
   "source": [
    "# skipping row and selecting columns \n",
    "data = np.loadtxt(\"openDemo.csv\",skiprows=6,delimiter=\",\",usecols=(2,3))"
   ]
  },
  {
   "cell_type": "code",
   "execution_count": 54,
   "metadata": {},
   "outputs": [
    {
     "name": "stdout",
     "output_type": "stream",
     "text": [
      "[[55.  2.]\n",
      " [27.  1.]\n",
      " [93. 12.]\n",
      " [45.  3.]\n",
      " [70. 11.]\n",
      " [60.  7.]\n",
      " [25.  4.]\n",
      " [48.  4.]\n",
      " [51.  7.]\n",
      " [81.  1.]\n",
      " [58.  4.]\n",
      " [16.  3.]\n",
      " [21.  1.]\n",
      " [82.  9.]\n",
      " [11. 12.]\n",
      " [76.  1.]\n",
      " [72.  4.]\n",
      " [29.  3.]\n",
      " [59.  4.]\n",
      " [88.  2.]\n",
      " [64.  7.]\n",
      " [53.  7.]\n",
      " [12.  5.]\n",
      " [16.  3.]\n",
      " [83.  7.]\n",
      " [49. 10.]\n",
      " [84. 14.]\n",
      " [58. 10.]\n",
      " [57.  3.]\n",
      " [ 6. 10.]\n",
      " [13.  2.]\n",
      " [82.  2.]\n",
      " [94.  4.]\n",
      " [24.  3.]\n",
      " [18.  1.]\n",
      " [92. 11.]\n",
      " [13.  2.]\n",
      " [83.  7.]\n",
      " [30.  3.]\n",
      " [67.  8.]\n",
      " [40.  7.]\n",
      " [59.  2.]\n",
      " [24.  6.]\n",
      " [67.  9.]\n",
      " [33.  3.]\n",
      " [49.  7.]\n",
      " [94. 15.]\n",
      " [95.  1.]\n",
      " [46.  3.]\n",
      " [21.  3.]\n",
      " [34.  5.]\n",
      " [18.  1.]\n",
      " [14. 18.]\n",
      " [69.  4.]\n",
      " [81. 13.]\n",
      " [11.  1.]\n",
      " [ 8.  2.]\n",
      " [95. 14.]\n",
      " [19.  1.]\n",
      " [12.  1.]\n",
      " [67.  8.]\n",
      " [39.  2.]\n",
      " [78.  5.]\n",
      " [60. 10.]\n",
      " [49.  4.]\n",
      " [ 8.  1.]\n",
      " [44.  2.]\n",
      " [79. 11.]\n",
      " [43.  6.]\n",
      " [66.  1.]\n",
      " [91.  9.]\n",
      " [79.  6.]\n",
      " [ 7.  1.]\n",
      " [93.  5.]\n",
      " [18.  2.]\n",
      " [66.  7.]\n",
      " [41.  1.]\n",
      " [13.  2.]\n",
      " [17.  1.]\n",
      " [90.  5.]\n",
      " [27. 12.]\n",
      " [54.  8.]\n",
      " [ 9.  1.]\n",
      " [19.  1.]\n",
      " [90. 12.]\n",
      " [13.  2.]\n",
      " [26.  3.]\n",
      " [22.  2.]\n",
      " [13.  3.]\n",
      " [ 6.  4.]\n",
      " [84.  9.]\n",
      " [60.  1.]\n",
      " [55.  5.]\n",
      " [28.  4.]\n",
      " [67. 10.]\n",
      " [33.  5.]\n",
      " [66.  5.]\n",
      " [77. 10.]\n",
      " [92. 10.]\n",
      " [32.  2.]\n",
      " [77.  9.]\n",
      " [71.  3.]\n",
      " [28.  3.]\n",
      " [11.  1.]\n",
      " [15.  1.]\n",
      " [83.  9.]\n",
      " [76.  3.]\n",
      " [40.  6.]\n",
      " [65.  5.]\n",
      " [42.  5.]\n",
      " [41.  3.]\n",
      " [19.  3.]\n",
      " [49.  6.]\n",
      " [23.  3.]\n",
      " [16.  2.]\n",
      " [40.  4.]\n",
      " [16.  3.]\n",
      " [14.  2.]\n",
      " [83.  9.]\n",
      " [20.  3.]\n",
      " [ 8.  1.]\n",
      " [59.  2.]\n",
      " [82.  4.]\n",
      " [18.  1.]\n",
      " [20.  1.]\n",
      " [39.  2.]\n",
      " [ 8.  1.]\n",
      " [42.  3.]\n",
      " [95. 10.]\n",
      " [91.  5.]\n",
      " [30.  2.]\n",
      " [ 8.  5.]\n",
      " [29.  1.]\n",
      " [44.  5.]\n",
      " [93. 10.]\n",
      " [27.  4.]\n",
      " [78. 10.]\n",
      " [62.  7.]\n",
      " [87. 11.]\n",
      " [29.  3.]\n",
      " [92.  2.]\n",
      " [86. 11.]\n",
      " [16.  2.]\n",
      " [14.  1.]\n",
      " [74. 12.]\n",
      " [11.  2.]\n",
      " [38.  3.]\n",
      " [33.  1.]\n",
      " [20.  2.]\n",
      " [26.  4.]\n",
      " [79.  5.]\n",
      " [44.  3.]\n",
      " [69. 11.]\n",
      " [75.  4.]\n",
      " [22.  3.]\n",
      " [74. 11.]\n",
      " [49.  8.]\n",
      " [50.  2.]\n",
      " [53.  6.]\n",
      " [92.  1.]\n",
      " [82.  9.]\n",
      " [17.  2.]\n",
      " [ 5.  1.]\n",
      " [36.  2.]\n",
      " [24.  2.]\n",
      " [18.  2.]\n",
      " [58.  4.]\n",
      " [26.  4.]\n",
      " [49.  8.]\n",
      " [31.  1.]\n",
      " [70.  3.]\n",
      " [10. 18.]\n",
      " [78.  1.]\n",
      " [22.  3.]\n",
      " [77.  3.]\n",
      " [42.  4.]\n",
      " [94.  7.]\n",
      " [ 9.  2.]\n",
      " [26.  4.]\n",
      " [72. 10.]\n",
      " [ 5.  1.]\n",
      " [65.  6.]\n",
      " [69.  9.]\n",
      " [63.  8.]\n",
      " [59.  2.]\n",
      " [63.  6.]\n",
      " [33.  4.]\n",
      " [83.  6.]\n",
      " [ 8.  1.]\n",
      " [34.  5.]\n",
      " [58.  3.]\n",
      " [ 7.  1.]\n",
      " [69.  7.]\n",
      " [46.  8.]\n",
      " [12.  2.]\n",
      " [59.  3.]\n",
      " [ 5.  1.]\n",
      " [91.  5.]\n",
      " [61.  4.]\n",
      " [40.  1.]\n",
      " [80.  5.]\n",
      " [69.  6.]\n",
      " [65.  8.]\n",
      " [27.  2.]\n",
      " [15.  1.]\n",
      " [10.  1.]\n",
      " [58.  1.]\n",
      " [58.  5.]\n",
      " [74.  3.]\n",
      " [56.  7.]\n",
      " [15.  1.]\n",
      " [59.  4.]\n",
      " [48.  5.]\n",
      " [55.  2.]\n",
      " [ 9. 12.]\n",
      " [25.  4.]\n",
      " [14.  2.]\n",
      " [51.  1.]\n",
      " [69.  6.]\n",
      " [38.  3.]\n",
      " [82.  5.]\n",
      " [14.  2.]\n",
      " [24.  2.]\n",
      " [50.  1.]\n",
      " [24.  4.]\n",
      " [13.  2.]\n",
      " [79.  6.]\n",
      " [82.  2.]\n",
      " [11.  6.]\n",
      " [69.  2.]\n",
      " [68.  5.]\n",
      " [76.  3.]\n",
      " [20.  3.]\n",
      " [21.  2.]\n",
      " [31.  5.]\n",
      " [70.  8.]\n",
      " [74. 11.]\n",
      " [75. 12.]\n",
      " [89.  1.]\n",
      " [77.  5.]\n",
      " [60.  5.]\n",
      " [90.  7.]\n",
      " [58.  2.]\n",
      " [76.  9.]\n",
      " [62.  6.]\n",
      " [87.  8.]\n",
      " [70.  5.]\n",
      " [12.  2.]\n",
      " [74.  8.]\n",
      " [60.  7.]\n",
      " [73.  1.]\n",
      " [90.  4.]\n",
      " [75.  7.]\n",
      " [87. 13.]\n",
      " [72. 11.]\n",
      " [93.  7.]\n",
      " [91.  3.]\n",
      " [79.  9.]\n",
      " [ 7.  2.]\n",
      " [11.  1.]\n",
      " [17.  2.]\n",
      " [84.  4.]\n",
      " [73.  9.]\n",
      " [79.  5.]\n",
      " [68. 11.]\n",
      " [81. 10.]\n",
      " [79. 10.]\n",
      " [45.  1.]\n",
      " [88. 10.]\n",
      " [20.  3.]\n",
      " [81.  7.]\n",
      " [54.  3.]\n",
      " [54.  3.]\n",
      " [89.  8.]\n",
      " [44.  6.]\n",
      " [81.  1.]\n",
      " [95.  4.]\n",
      " [55.  2.]\n",
      " [95. 11.]\n",
      " [69.  8.]\n",
      " [95. 15.]\n",
      " [74.  4.]\n",
      " [38.  2.]\n",
      " [70.  6.]\n",
      " [81. 10.]\n",
      " [52.  1.]\n",
      " [67.  9.]\n",
      " [14.  2.]\n",
      " [35.  2.]\n",
      " [90.  3.]\n",
      " [17.  3.]\n",
      " [53.  3.]\n",
      " [81.  8.]\n",
      " [75. 11.]\n",
      " [32.  4.]\n",
      " [32.  6.]\n",
      " [55.  6.]\n",
      " [21.  3.]\n",
      " [54.  1.]\n",
      " [93. 15.]]\n"
     ]
    }
   ],
   "source": [
    "print(data)"
   ]
  },
  {
   "cell_type": "code",
   "execution_count": 63,
   "metadata": {},
   "outputs": [
    {
     "name": "stdout",
     "output_type": "stream",
     "text": [
      "[55. 27. 93. 45. 70.]\n",
      "[ 2.  1. 12.  3. 11.]\n"
     ]
    }
   ],
   "source": [
    "# unpacking into variable names\n",
    "Age, LOS = np.loadtxt(\"openDemo.csv\",skiprows=6,delimiter=\",\",usecols=(2,3),unpack=True)\n",
    "print(Age[0:5])\n",
    "print(LOS[0:5])\n",
    "# setting data types\n",
    "data = np.loadtxt(\"openDemo.csv\",skiprows=6,delimiter=\",\",\n",
    "                  dtype={'names': ('ID', 'Age', 'LOS','Death','Category'),\n",
    "                         'formats': ('i4','S6', 'i4', 'f4','i4')})"
   ]
  },
  {
   "cell_type": "code",
   "execution_count": 59,
   "metadata": {},
   "outputs": [
    {
     "name": "stdout",
     "output_type": "stream",
     "text": [
      "[(1, b'Trust1', 55,  2., 0) (2, b'Trust2', 27,  1., 0)\n",
      " (3, b'Trust3', 93, 12., 0) (4, b'Trust4', 45,  3., 1)]\n"
     ]
    }
   ],
   "source": [
    "print(data[0:4])"
   ]
  },
  {
   "cell_type": "code",
   "execution_count": 60,
   "metadata": {},
   "outputs": [
    {
     "name": "stdout",
     "output_type": "stream",
     "text": [
      "1\n"
     ]
    }
   ],
   "source": [
    "print(data[0][0])"
   ]
  },
  {
   "cell_type": "code",
   "execution_count": 61,
   "metadata": {},
   "outputs": [
    {
     "name": "stdout",
     "output_type": "stream",
     "text": [
      "b'Trust3'\n"
     ]
    }
   ],
   "source": [
    "print(data[2][1])"
   ]
  },
  {
   "cell_type": "code",
   "execution_count": 70,
   "metadata": {},
   "outputs": [],
   "source": [
    "np.savetxt(\"age.csv\", Age, delimiter=' ', fmt='%1.4f')"
   ]
  },
  {
   "cell_type": "code",
   "execution_count": null,
   "metadata": {},
   "outputs": [],
   "source": []
  }
 ],
 "metadata": {
  "kernelspec": {
   "display_name": "Python 3",
   "language": "python",
   "name": "python3"
  },
  "language_info": {
   "codemirror_mode": {
    "name": "ipython",
    "version": 3
   },
   "file_extension": ".py",
   "mimetype": "text/x-python",
   "name": "python",
   "nbconvert_exporter": "python",
   "pygments_lexer": "ipython3",
   "version": "3.8.3"
  }
 },
 "nbformat": 4,
 "nbformat_minor": 4
}
